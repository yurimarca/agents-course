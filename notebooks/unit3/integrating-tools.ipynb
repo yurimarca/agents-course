{
 "cells": [
  {
   "cell_type": "markdown",
   "id": "7c040264-efc4-4b2d-8d3c-e8e806affa15",
   "metadata": {},
   "source": [
    "### Step 1: Initialize the SerpAPI Search Tool\n",
    "\n",
    "This cell loads your SerpAPI key from a `.env` file using `python-dotenv` and initializes the `SerpAPIWrapper` from LangChain Community utilities. It performs a simple web search to answer the question \"Who's the current President of France?\" and prints the result."
   ]
  },
  {
   "cell_type": "code",
   "execution_count": 1,
   "id": "bd18b384-174a-4b7d-b622-98ba501207b3",
   "metadata": {},
   "outputs": [
    {
     "name": "stdout",
     "output_type": "stream",
     "text": [
      "Emmanuel Macron\n"
     ]
    }
   ],
   "source": [
    "import os\n",
    "from dotenv import load_dotenv\n",
    "from langchain_community.utilities import SerpAPIWrapper\n",
    "from langchain.tools import tool\n",
    "\n",
    "load_dotenv()\n",
    "\n",
    "api_key = os.getenv(\"SERPAPI_API_KEY\") # https://serpapi.com/\n",
    "\n",
    "@tool\n",
    "def search_tool(query: str) -> str:\n",
    "    \"\"\"Searches the web using SerpAPI and returns the top result snippet.\"\"\"\n",
    "    from langchain_community.utilities import SerpAPIWrapper\n",
    "    search = SerpAPIWrapper()\n",
    "    return search.run(query)\n",
    "    \n",
    "print(search_tool.run(\"Who's the current President of France?\"))"
   ]
  },
  {
   "cell_type": "markdown",
   "id": "47e618ae-89ad-400d-97be-f46be70fcac6",
   "metadata": {},
   "source": [
    "### Step 2: Create a Dummy Weather Tool\n",
    "\n",
    "Here, we define a simple function to simulate fetching weather data for a given location. The function randomly selects from a few predefined weather conditions and temperatures. We then wrap this function using `Tool` from LangChain to make it usable in a tool-enabled agent.\n"
   ]
  },
  {
   "cell_type": "code",
   "execution_count": 2,
   "id": "a55dc905-8409-406d-957c-19ac43269385",
   "metadata": {},
   "outputs": [],
   "source": [
    "from langchain.tools import Tool\n",
    "import random\n",
    "\n",
    "def get_weather_info(location: str) -> str:\n",
    "    \"\"\"Fetches dummy weather information for a given location.\"\"\"\n",
    "    # Dummy weather data\n",
    "    weather_conditions = [\n",
    "        {\"condition\": \"Rainy\", \"temp_c\": 15},\n",
    "        {\"condition\": \"Clear\", \"temp_c\": 25},\n",
    "        {\"condition\": \"Windy\", \"temp_c\": 20}\n",
    "    ]\n",
    "    # Randomly select a weather condition\n",
    "    data = random.choice(weather_conditions)\n",
    "    return f\"Weather in {location}: {data['condition']}, {data['temp_c']}°C\"\n",
    "\n",
    "# Initialize the tool\n",
    "weather_info_tool = Tool(\n",
    "    name=\"get_weather_info\",\n",
    "    func=get_weather_info,\n",
    "    description=\"Fetches dummy weather information for a given location.\"\n",
    ")"
   ]
  },
  {
   "cell_type": "markdown",
   "id": "213504a4-5b67-4e6b-90f6-21b99c1f7783",
   "metadata": {},
   "source": [
    "### Step 3: Create a Hugging Face Hub Stats Tool\n",
    "\n",
    "This cell defines a function that fetches the most downloaded model from a given author on the Hugging Face Hub using the `huggingface_hub` SDK. It is wrapped as a LangChain tool and invoked with `\"facebook\"` as an example, returning the top model by download count."
   ]
  },
  {
   "cell_type": "code",
   "execution_count": 3,
   "id": "ba9a3952-fa33-4ef2-84de-a39c5b6053bc",
   "metadata": {},
   "outputs": [
    {
     "name": "stderr",
     "output_type": "stream",
     "text": [
      "/tmp/ipykernel_102294/3056453286.py:26: LangChainDeprecationWarning: The method `BaseTool.__call__` was deprecated in langchain-core 0.1.47 and will be removed in 1.0. Use :meth:`~invoke` instead.\n",
      "  print(hub_stats_tool(\"facebook\")) # Example: Get the most downloaded model by Facebook\n"
     ]
    },
    {
     "name": "stdout",
     "output_type": "stream",
     "text": [
      "The most downloaded model by facebook is facebook/esmfold_v1 with 15,316,230 downloads.\n"
     ]
    }
   ],
   "source": [
    "from langchain.tools import Tool\n",
    "from huggingface_hub import list_models\n",
    "\n",
    "def get_hub_stats(author: str) -> str:\n",
    "    \"\"\"Fetches the most downloaded model from a specific author on the Hugging Face Hub.\"\"\"\n",
    "    try:\n",
    "        # List models from the specified author, sorted by downloads\n",
    "        models = list(list_models(author=author, sort=\"downloads\", direction=-1, limit=1))\n",
    "\n",
    "        if models:\n",
    "            model = models[0]\n",
    "            return f\"The most downloaded model by {author} is {model.id} with {model.downloads:,} downloads.\"\n",
    "        else:\n",
    "            return f\"No models found for author {author}.\"\n",
    "    except Exception as e:\n",
    "        return f\"Error fetching models for {author}: {str(e)}\"\n",
    "\n",
    "# Initialize the tool\n",
    "hub_stats_tool = Tool(\n",
    "    name=\"get_hub_stats\",\n",
    "    func=get_hub_stats,\n",
    "    description=\"Fetches the most downloaded model from a specific author on the Hugging Face Hub.\"\n",
    ")\n",
    "\n",
    "# Example usage\n",
    "print(hub_stats_tool(\"facebook\")) # Example: Get the most downloaded model by Facebook"
   ]
  },
  {
   "cell_type": "markdown",
   "id": "efdde6a0-816d-433a-83ec-a6ceea906ff6",
   "metadata": {},
   "source": [
    "### Step 4: Build the LangGraph Agent with Tool Support\n",
    "\n",
    "This cell sets up a LangGraph workflow where an assistant (based on Hugging Face's `Qwen2.5-Coder-32B-Instruct` model) can automatically decide when to use tools.\n",
    "\n",
    "- Tools are bound to the LLM using `bind_tools()`.\n",
    "- `StateGraph` is used to define the agent's flow, starting at the `assistant` node.\n",
    "- If the assistant determines a tool is needed (`tools_condition`), control moves to the `tools` node and loops back.\n",
    "\n",
    "Finally, a sample user message is passed into the graph to demonstrate the tool-augmented assistant's response.\n"
   ]
  },
  {
   "cell_type": "code",
   "execution_count": 4,
   "id": "7fe22a04-88af-4bcd-8a3f-274edbf89183",
   "metadata": {},
   "outputs": [
    {
     "name": "stdout",
     "output_type": "stream",
     "text": [
      "🎩 Alfred's Response:\n",
      "It seems like there might be some confusion. Facebook, as a social media platform, does not typically release or have a \"most popular model\" like a technology company specializing in AI might. However, Meta (the parent company of Facebook) has been very active in the field of artificial intelligence and has released several models. The most downloaded AI model by Meta, according to the information you provided, is `esmfold_v1` with 15,316,230 downloads. \n",
      "\n",
      "This model is related to bioinformatics, specifically for predicting the structure of proteins. If you are looking for information on models that are more directly related to social media functionality on Facebook, the context might be different, as Facebook's internal models often serve specific purposes like content ranking, recommendation systems, and ad targeting, but are not publicly available or widely downloaded in the same way.\n",
      "\n",
      "If you need more information about a specific type of model or functionality within Facebook, feel free to provide more details!\n"
     ]
    }
   ],
   "source": [
    "from typing import TypedDict, Annotated\n",
    "from langgraph.graph.message import add_messages\n",
    "from langchain_core.messages import AnyMessage, HumanMessage, AIMessage\n",
    "from langgraph.prebuilt import ToolNode\n",
    "from langgraph.graph import START, StateGraph\n",
    "from langgraph.prebuilt import tools_condition\n",
    "from langchain_huggingface import HuggingFaceEndpoint, ChatHuggingFace\n",
    "\n",
    "# Generate the chat interface, including the tools\n",
    "load_dotenv()\n",
    "api_key = os.getenv(\"HUGGINGFACEHUB_API_TOKEN\")\n",
    "\n",
    "llm = HuggingFaceEndpoint(\n",
    "    repo_id=\"Qwen/Qwen2.5-Coder-32B-Instruct\",\n",
    "    huggingfacehub_api_token=api_key,\n",
    ")\n",
    "\n",
    "chat = ChatHuggingFace(llm=llm, verbose=True)\n",
    "tools = [search_tool, weather_info_tool, hub_stats_tool]\n",
    "chat_with_tools = chat.bind_tools(tools)\n",
    "\n",
    "# Generate the AgentState and Agent graph\n",
    "class AgentState(TypedDict):\n",
    "    messages: Annotated[list[AnyMessage], add_messages]\n",
    "\n",
    "def assistant(state: AgentState):\n",
    "    return {\n",
    "        \"messages\": [chat_with_tools.invoke(state[\"messages\"])],\n",
    "    }\n",
    "\n",
    "## The graph\n",
    "builder = StateGraph(AgentState)\n",
    "\n",
    "# Define nodes: these do the work\n",
    "builder.add_node(\"assistant\", assistant)\n",
    "builder.add_node(\"tools\", ToolNode(tools))\n",
    "\n",
    "# Define edges: these determine how the control flow moves\n",
    "builder.add_edge(START, \"assistant\")\n",
    "builder.add_conditional_edges(\n",
    "    \"assistant\",\n",
    "    # If the latest message requires a tool, route to tools\n",
    "    # Otherwise, provide a direct response\n",
    "    tools_condition,\n",
    ")\n",
    "builder.add_edge(\"tools\", \"assistant\")\n",
    "alfred = builder.compile()\n",
    "\n",
    "messages = [HumanMessage(content=\"Who is Facebook and what's their most popular model?\")]\n",
    "response = alfred.invoke({\"messages\": messages})\n",
    "\n",
    "print(\"🎩 Alfred's Response:\")\n",
    "print(response['messages'][-1].content)"
   ]
  },
  {
   "cell_type": "markdown",
   "id": "621e9736-ba59-434b-856f-0fcb5f8347d1",
   "metadata": {},
   "source": [
    "### Visualize the Agent Graph\n",
    "\n",
    "This cell renders the graph created in the previous step using Mermaid, displaying the interaction between the assistant node and the tools node.\n",
    "\n",
    "This visual helps understand the decision-making flow: starting at the assistant, optionally invoking tools, and then cycling back for further processing."
   ]
  },
  {
   "cell_type": "code",
   "execution_count": 5,
   "id": "c247a63a-126d-4601-99ff-9536e6a412ec",
   "metadata": {},
   "outputs": [
    {
     "data": {
      "image/png": "[encoded data removed]",
      "text/plain": [
       "<IPython.core.display.Image object>"
      ]
     },
     "metadata": {},
     "output_type": "display_data"
    }
   ],
   "source": [
    "from IPython.display import Image, display\n",
    "compiled_graph = builder.compile()\n",
    "display(Image(compiled_graph.get_graph().draw_mermaid_png()))"
   ]
  },
  {
   "cell_type": "markdown",
   "id": "c435fcbe-f6dd-47f4-867d-f5e470abe2c2",
   "metadata": {},
   "source": [
    "### Summary: Tool-Augmented Agent Using LangGraph and Hugging Face\n",
    "\n",
    "In this notebook, we built a tool-augmented conversational agent using **LangChain**, **LangGraph**, and a **Hugging Face language model**. The workflow included:\n",
    "\n",
    "1. **Tool Creation**: We defined several tools, including a SerpAPI-based web search, a mock weather reporter, and a Hugging Face Hub statistics retriever. These were registered using LangChain’s `@tool` decorator or `Tool` wrapper.\n",
    "\n",
    "2. **Tool Binding**: We instantiated a chat model from Hugging Face (`Qwen2.5-Coder-32B-Instruct`) and bound the tools to it using `bind_tools`, enabling the model to call tools when appropriate.\n",
    "\n",
    "3. **Agent Graph**: We built an agent using `StateGraph` with an assistant node and a tool node. The assistant decides whether to respond directly or invoke a tool using `tools_condition`.\n",
    "\n",
    "4. **Execution and Visualization**: A sample user query demonstrated the full tool-augmented agent in action, and we visualized the control flow using a Mermaid-based graph.\n",
    "\n",
    "This setup demonstrates how to integrate LLMs and tools within a structured and extensible agent framework, supporting dynamic decision-making and automated tool usage."
   ]
  },
  {
   "cell_type": "code",
   "execution_count": null,
   "id": "49d1a473-4828-4159-9d00-0382d3b455b1",
   "metadata": {},
   "outputs": [],
   "source": []
  }
 ],
 "metadata": {
  "kernelspec": {
   "display_name": "Python 3 (ipykernel)",
   "language": "python",
   "name": "python3"
  },
  "language_info": {
   "codemirror_mode": {
    "name": "ipython",
    "version": 3
   },
   "file_extension": ".py",
   "mimetype": "text/x-python",
   "name": "python",
   "nbconvert_exporter": "python",
   "pygments_lexer": "ipython3",
   "version": "3.10.16"
  }
 },
 "nbformat": 4,
 "nbformat_minor": 5
}
