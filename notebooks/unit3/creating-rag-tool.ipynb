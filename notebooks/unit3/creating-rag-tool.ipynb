{
 "cells": [
  {
   "cell_type": "markdown",
   "id": "ad449cc9-5e88-4a97-8612-60768bbc271e",
   "metadata": {},
   "source": [
    "## Authenticate with Hugging Face Hub\n",
    "\n",
    "To access models or datasets hosted privately on Hugging Face, we first log in using the `huggingface_hub` package. This step is necessary if you're accessing gated models or datasets with a token."
   ]
  },
  {
   "cell_type": "code",
   "execution_count": 3,
   "id": "6a70aa6a-3368-43db-b486-99ec3ee02083",
   "metadata": {},
   "outputs": [
    {
     "data": {
      "application/vnd.jupyter.widget-view+json": {
       "model_id": "6d904d092d7947b7954e5ceb96e58907",
       "version_major": 2,
       "version_minor": 0
      },
      "text/plain": [
       "VBox(children=(HTML(value='<center> <img\\nsrc=https://huggingface.co/front/assets/huggingface_logo-noborder.sv…"
      ]
     },
     "metadata": {},
     "output_type": "display_data"
    }
   ],
   "source": [
    "from huggingface_hub import login\n",
    "\n",
    "login()"
   ]
  },
  {
   "cell_type": "markdown",
   "id": "1081fb9b-b580-4e64-9ac3-f689211672bb",
   "metadata": {},
   "source": [
    "## Load Dataset and Prepare Documents\n",
    "\n",
    "We use the `datasets` library to load the `\"agents-course/unit3-invitees\"` dataset, which contains structured information about invited guests. Then we convert each entry into a `Document` object from LangChain.\n",
    "\n",
    "Each document includes:\n",
    "- Name\n",
    "- Relation\n",
    "- Description\n",
    "- Email\n",
    "\n",
    "These will be used later for semantic retrieval."
   ]
  },
  {
   "cell_type": "code",
   "execution_count": 6,
   "id": "3ae49926-1e93-4486-bb21-12b953b4614f",
   "metadata": {},
   "outputs": [
    {
     "data": {
      "application/vnd.jupyter.widget-view+json": {
       "model_id": "d162e6adc1294eb29542bb4a38791443",
       "version_major": 2,
       "version_minor": 0
      },
      "text/plain": [
       "README.md:   0%|          | 0.00/371 [00:00<?, ?B/s]"
      ]
     },
     "metadata": {},
     "output_type": "display_data"
    },
    {
     "data": {
      "application/vnd.jupyter.widget-view+json": {
       "model_id": "36e7808fcfdc4ff9a94d23615699b071",
       "version_major": 2,
       "version_minor": 0
      },
      "text/plain": [
       "train-00000-of-00001.parquet:   0%|          | 0.00/3.32k [00:00<?, ?B/s]"
      ]
     },
     "metadata": {},
     "output_type": "display_data"
    },
    {
     "data": {
      "application/vnd.jupyter.widget-view+json": {
       "model_id": "071ef86e52fb4f5abdd4c069bee3e6c9",
       "version_major": 2,
       "version_minor": 0
      },
      "text/plain": [
       "Generating train split:   0%|          | 0/3 [00:00<?, ? examples/s]"
      ]
     },
     "metadata": {},
     "output_type": "display_data"
    }
   ],
   "source": [
    "import datasets\n",
    "from langchain.docstore.document import Document\n",
    "\n",
    "# Load the dataset\n",
    "guest_dataset = datasets.load_dataset(\"agents-course/unit3-invitees\", split=\"train\")\n",
    "\n",
    "# Convert dataset entries into Document objects\n",
    "docs = [\n",
    "    Document(\n",
    "        page_content=\"\\n\".join([\n",
    "            f\"Name: {guest['name']}\",\n",
    "            f\"Relation: {guest['relation']}\",\n",
    "            f\"Description: {guest['description']}\",\n",
    "            f\"Email: {guest['email']}\"\n",
    "        ]),\n",
    "        metadata={\"name\": guest[\"name\"]}\n",
    "    )\n",
    "    for guest in guest_dataset\n",
    "]"
   ]
  },
  {
   "cell_type": "markdown",
   "id": "133b224c-a87c-44ed-a51f-574592c503ae",
   "metadata": {},
   "source": [
    "## Generate Embeddings with SentenceTransformers\n",
    "\n",
    "We load the `all-MiniLM-L6-v2` model using the `sentence-transformers` library to compute dense embeddings for each document.\n",
    "\n",
    "This allows us to:\n",
    "- Turn each guest description into a vector\n",
    "- Compare queries to those vectors using cosine similarity\n",
    "\n",
    "We also define a retrieval function `extract_text()` that:\n",
    "1. Encodes the user query\n",
    "2. Computes cosine similarities with all documents\n",
    "3. Returns the top 3 most semantically similar entries"
   ]
  },
  {
   "cell_type": "code",
   "execution_count": 8,
   "id": "f8128130-4241-4c70-8126-370762b8a375",
   "metadata": {},
   "outputs": [
    {
     "data": {
      "application/vnd.jupyter.widget-view+json": {
       "model_id": "9abf9ca2974f40168b4846b315743c07",
       "version_major": 2,
       "version_minor": 0
      },
      "text/plain": [
       "modules.json:   0%|          | 0.00/349 [00:00<?, ?B/s]"
      ]
     },
     "metadata": {},
     "output_type": "display_data"
    },
    {
     "data": {
      "application/vnd.jupyter.widget-view+json": {
       "model_id": "ea02f62cb7b44a43902a53492b7a0a0a",
       "version_major": 2,
       "version_minor": 0
      },
      "text/plain": [
       "config_sentence_transformers.json:   0%|          | 0.00/116 [00:00<?, ?B/s]"
      ]
     },
     "metadata": {},
     "output_type": "display_data"
    },
    {
     "data": {
      "application/vnd.jupyter.widget-view+json": {
       "model_id": "96b67907fb71465aa18682f34e392721",
       "version_major": 2,
       "version_minor": 0
      },
      "text/plain": [
       "README.md:   0%|          | 0.00/10.5k [00:00<?, ?B/s]"
      ]
     },
     "metadata": {},
     "output_type": "display_data"
    },
    {
     "data": {
      "application/vnd.jupyter.widget-view+json": {
       "model_id": "758d1ffbe2744a8dbc059d2c41749083",
       "version_major": 2,
       "version_minor": 0
      },
      "text/plain": [
       "sentence_bert_config.json:   0%|          | 0.00/53.0 [00:00<?, ?B/s]"
      ]
     },
     "metadata": {},
     "output_type": "display_data"
    },
    {
     "data": {
      "application/vnd.jupyter.widget-view+json": {
       "model_id": "fbc12cec8f6445ab9d3a71df7492f8a2",
       "version_major": 2,
       "version_minor": 0
      },
      "text/plain": [
       "config.json:   0%|          | 0.00/612 [00:00<?, ?B/s]"
      ]
     },
     "metadata": {},
     "output_type": "display_data"
    },
    {
     "data": {
      "application/vnd.jupyter.widget-view+json": {
       "model_id": "ddafc30f91dd461ba355d445e93a0df0",
       "version_major": 2,
       "version_minor": 0
      },
      "text/plain": [
       "model.safetensors:   0%|          | 0.00/90.9M [00:00<?, ?B/s]"
      ]
     },
     "metadata": {},
     "output_type": "display_data"
    },
    {
     "data": {
      "application/vnd.jupyter.widget-view+json": {
       "model_id": "d6e9c00c0d1a470ca2488dddd08cfd52",
       "version_major": 2,
       "version_minor": 0
      },
      "text/plain": [
       "tokenizer_config.json:   0%|          | 0.00/350 [00:00<?, ?B/s]"
      ]
     },
     "metadata": {},
     "output_type": "display_data"
    },
    {
     "data": {
      "application/vnd.jupyter.widget-view+json": {
       "model_id": "b5d7165d29b1432eb17c3ad90fba93fc",
       "version_major": 2,
       "version_minor": 0
      },
      "text/plain": [
       "vocab.txt:   0%|          | 0.00/232k [00:00<?, ?B/s]"
      ]
     },
     "metadata": {},
     "output_type": "display_data"
    },
    {
     "data": {
      "application/vnd.jupyter.widget-view+json": {
       "model_id": "8bf6bdf2360a4e6b95e4c2317b9b749a",
       "version_major": 2,
       "version_minor": 0
      },
      "text/plain": [
       "tokenizer.json:   0%|          | 0.00/466k [00:00<?, ?B/s]"
      ]
     },
     "metadata": {},
     "output_type": "display_data"
    },
    {
     "data": {
      "application/vnd.jupyter.widget-view+json": {
       "model_id": "dcb3f27186a34316bfc7e68171ea5a6f",
       "version_major": 2,
       "version_minor": 0
      },
      "text/plain": [
       "special_tokens_map.json:   0%|          | 0.00/112 [00:00<?, ?B/s]"
      ]
     },
     "metadata": {},
     "output_type": "display_data"
    },
    {
     "data": {
      "application/vnd.jupyter.widget-view+json": {
       "model_id": "baa7876b647b45dc915fd4dc16f0fb9f",
       "version_major": 2,
       "version_minor": 0
      },
      "text/plain": [
       "config.json:   0%|          | 0.00/190 [00:00<?, ?B/s]"
      ]
     },
     "metadata": {},
     "output_type": "display_data"
    }
   ],
   "source": [
    "from sentence_transformers import SentenceTransformer, util\n",
    "import torch\n",
    "\n",
    "# Load model\n",
    "model = SentenceTransformer(\"all-MiniLM-L6-v2\")\n",
    "\n",
    "# Convert docs to embeddings\n",
    "corpus = [doc.page_content for doc in docs]\n",
    "corpus_embeddings = model.encode(corpus, convert_to_tensor=True)\n",
    "\n",
    "# Define retrieval function\n",
    "def extract_text(query: str) -> str:\n",
    "    \"\"\"Retrieves semantically relevant guest info using sentence-transformers.\"\"\"\n",
    "    query_embedding = model.encode(query, convert_to_tensor=True)\n",
    "    scores = util.cos_sim(query_embedding, corpus_embeddings)[0]\n",
    "\n",
    "    # Get top 3 results\n",
    "    top_results = torch.topk(scores, k=3)\n",
    "\n",
    "    if top_results.indices.numel() == 0:\n",
    "        return \"No matching guest information found.\"\n",
    "\n",
    "    return \"\\n\\n\".join([corpus[idx] for idx in top_results.indices])"
   ]
  },
  {
   "cell_type": "markdown",
   "id": "5d1ab9c1-9b63-4a7a-a39a-93ffc75c0026",
   "metadata": {},
   "source": [
    "## Wrap the Retrieval Function as a LangChain Tool\n",
    "\n",
    "To integrate our semantic search function with LangChain's agent ecosystem, we wrap `extract_text()` in a `Tool`.\n",
    "\n",
    "This allows language models (LLMs) in LangChain to invoke this function based on the context of user queries. We give the tool a name and description, which help the agent know when to use it.\n"
   ]
  },
  {
   "cell_type": "code",
   "execution_count": 9,
   "id": "5517d988-d784-4ce8-b05b-9fe9768da821",
   "metadata": {},
   "outputs": [],
   "source": [
    "# LangChain Tool wrapping\n",
    "from langchain.tools import Tool\n",
    "\n",
    "guest_info_tool = Tool(\n",
    "    name=\"guest_info_retriever\",\n",
    "    func=extract_text,\n",
    "    description=\"Retrieves detailed information about gala guests based on their name or relation using semantic similarity.\"\n",
    ")"
   ]
  },
  {
   "cell_type": "markdown",
   "id": "1ce60659-16e5-4738-953c-bf7db5e48e80",
   "metadata": {},
   "source": [
    "## 🔎 Test Retrieval Function\n",
    "\n",
    "We do a quick test of our `extract_text()` function to ensure it returns meaningful information based on a query.\n",
    "\n",
    "This example asks for information related to someone with the title \"CEO\", and the model returns the most semantically relevant guests based on cosine similarity of the embeddings."
   ]
  },
  {
   "cell_type": "code",
   "execution_count": 10,
   "id": "e457b07d-1bd1-40b0-9e87-364e30dcc829",
   "metadata": {},
   "outputs": [
    {
     "name": "stdout",
     "output_type": "stream",
     "text": [
      "Name: Dr. Nikola Tesla\n",
      "Relation: old friend from university days\n",
      "Description: Dr. Nikola Tesla is an old friend from your university days. He's recently patented a new wireless energy transmission system and would be delighted to discuss it with you. Just remember he's passionate about pigeons, so that might make for good small talk.\n",
      "Email: nikola.tesla@gmail.com\n",
      "\n",
      "Name: Ada Lovelace\n",
      "Relation: best friend\n",
      "Description: Lady Ada Lovelace is my best friend. She is an esteemed mathematician and friend. She is renowned for her pioneering work in mathematics and computing, often celebrated as the first computer programmer due to her work on Charles Babbage's Analytical Engine.\n",
      "Email: ada.lovelace@example.com\n",
      "\n",
      "Name: Marie Curie\n",
      "Relation: no relation\n",
      "Description: Marie Curie was a groundbreaking physicist and chemist, famous for her research on radioactivity.\n",
      "Email: marie.curie@example.com\n"
     ]
    }
   ],
   "source": [
    "print(extract_text(\"Who is related as the CEO?\"))"
   ]
  },
  {
   "cell_type": "markdown",
   "id": "c847d9ff-dc83-4b6f-a01c-8e8b59601f3e",
   "metadata": {},
   "source": [
    "## Build the Agent with LangGraph\n",
    "\n",
    "Now we define the logic of our RAG agent using LangGraph.\n",
    "\n",
    "Steps:\n",
    "1. Define the agent's **state structure** using `TypedDict`.\n",
    "2. Define the **assistant node**, which is responsible for:\n",
    "   - Receiving messages\n",
    "   - Passing them to the chat model (which can use tools)\n",
    "   - Returning updated messages\n",
    "3. Configure the graph with:\n",
    "   - Nodes: `assistant`, `tools`\n",
    "   - Edges: connections between nodes and conditional tool routing\n",
    "\n",
    "This enables automatic back-and-forth between the LLM and tools in a structured, event-driven graph."
   ]
  },
  {
   "cell_type": "code",
   "execution_count": 12,
   "id": "3f11f4c8-e036-426d-9b26-a913211a40ff",
   "metadata": {},
   "outputs": [
    {
     "name": "stdout",
     "output_type": "stream",
     "text": [
      "🎩 Alfred's Response:\n",
      "It looks like there was a mix-up in the response. Let me provide you with the accurate information about Lady Ada Lovelace:\n",
      "\n",
      "**Name:** Ada Lovelace  \n",
      "**Full Name:** Augusta Ada King, Countess of Lovelace  \n",
      "**Birth:** December 10, 1815, London, England  \n",
      "**Death:** November 27, 1852, Marylebone, London, England  \n",
      "**Profession:** Mathematician and writer  \n",
      "\n",
      "**Description:**  \n",
      "Lady Ada Lovelace is widely regarded as the first computer programmer. She is famous for her work on Charles Babbage's Analytical Engine, a mechanical general-purpose computer that was never fully built in her lifetime. Lovelace saw the potential of the machine beyond mere calculations and wrote what is recognized as the first algorithm intended to be processed by a machine. Her notes include what is now considered the first computer program. Lovelace's contributions were ahead of her time, and her insights into the capabilities of computing machines have been influential long after her passing.  \n",
      "\n",
      "**Legacy:**  \n",
      "- **Analytical Engine:** Lovelace worked closely with Charles Babbage and is known for her notes on his Analytical Engine.\n",
      "- **First Computer Program:** Her algorithms for calculating Bernoulli numbers are considered to be the world's first computer program.\n",
      "- **Women in Computing:** Ada Lovelace is celebrated as a pioneer in the field of computing and an inspiration for women in STEM.\n",
      "\n",
      "Her work continues to be celebrated, and Ada Lovelace Day, observed in October each year, honors her legacy in the fields of science, technology, engineering, and mathematics.\n"
     ]
    }
   ],
   "source": [
    "import os\n",
    "\n",
    "from typing import TypedDict, Annotated\n",
    "from langgraph.graph.message import add_messages\n",
    "from langchain_core.messages import AnyMessage, HumanMessage, AIMessage\n",
    "from langgraph.prebuilt import ToolNode\n",
    "from langgraph.graph import START, StateGraph\n",
    "from langgraph.prebuilt import tools_condition\n",
    "from langchain_huggingface import HuggingFaceEndpoint, ChatHuggingFace\n",
    "from langchain.tools import Tool\n",
    "\n",
    "# Your previous semantic tool\n",
    "from sentence_transformers import SentenceTransformer, util\n",
    "import torch\n",
    "\n",
    "# Load model and encode docs\n",
    "model = SentenceTransformer(\"all-MiniLM-L6-v2\")\n",
    "corpus = [doc.page_content for doc in docs]\n",
    "corpus_embeddings = model.encode(corpus, convert_to_tensor=True)\n",
    "\n",
    "def extract_text(query: str) -> str:\n",
    "    query_embedding = model.encode(query, convert_to_tensor=True)\n",
    "    scores = util.cos_sim(query_embedding, corpus_embeddings)[0]\n",
    "    top_results = torch.topk(scores, k=3)\n",
    "    if top_results.indices.numel() == 0:\n",
    "        return \"No matching guest information found.\"\n",
    "    return \"\\n\\n\".join([corpus[idx] for idx in top_results.indices])\n",
    "\n",
    "guest_info_tool = Tool(\n",
    "    name=\"guest_info_retriever\",\n",
    "    func=extract_text,\n",
    "    description=\"Retrieves detailed information about gala guests based on their name or relation using semantic similarity.\"\n",
    ")\n",
    "\n",
    "# Define LLM\n",
    "HUGGINGFACEHUB_API_TOKEN = os.getenv(\"HUGGINGFACEHUB_API_TOKEN\")  # or set manually\n",
    "llm = HuggingFaceEndpoint(\n",
    "    repo_id=\"Qwen/Qwen2.5-Coder-32B-Instruct\",\n",
    "    huggingfacehub_api_token=HUGGINGFACEHUB_API_TOKEN,\n",
    ")\n",
    "chat = ChatHuggingFace(llm=llm, verbose=True)\n",
    "\n",
    "# Bind tools to chat\n",
    "tools = [guest_info_tool]\n",
    "chat_with_tools = chat.bind_tools(tools)\n",
    "\n",
    "# Agent state\n",
    "class AgentState(TypedDict):\n",
    "    messages: Annotated[list[AnyMessage], add_messages]\n",
    "\n",
    "# Assistant logic\n",
    "def assistant(state: AgentState) -> AgentState:\n",
    "    return {\n",
    "        \"messages\": [chat_with_tools.invoke(state[\"messages\"])],\n",
    "    }\n",
    "\n",
    "# Build graph\n",
    "builder = StateGraph(AgentState)\n",
    "builder.add_node(\"assistant\", assistant)\n",
    "builder.add_node(\"tools\", ToolNode(tools))\n",
    "builder.add_edge(START, \"assistant\")\n",
    "builder.add_conditional_edges(\"assistant\", tools_condition)\n",
    "builder.add_edge(\"tools\", \"assistant\")\n",
    "alfred = builder.compile()\n",
    "\n",
    "# Example run\n",
    "messages = [HumanMessage(content=\"Tell me about our guest named 'Lady Ada Lovelace'.\")]\n",
    "response = alfred.invoke({\"messages\": messages})\n",
    "\n",
    "print(\"🎩 Alfred's Response:\")\n",
    "print(response['messages'][-1].content)"
   ]
  },
  {
   "cell_type": "markdown",
   "id": "1fc4ec3a-3a05-4309-b90b-67f818dd0b4b",
   "metadata": {},
   "source": [
    "## Run the Agent!\n",
    "\n",
    "We now send a query to our agent and observe the output.\n",
    "\n",
    "The input simulates a user at a formal event asking Alfred (the assistant) who a specific guest is. The graph routes the query through the appropriate nodes, optionally uses the tool, and returns a detailed, conversational response."
   ]
  },
  {
   "cell_type": "code",
   "execution_count": 13,
   "id": "dfd31a75-1699-494a-82ec-bec7034d25ba",
   "metadata": {},
   "outputs": [
    {
     "name": "stdout",
     "output_type": "stream",
     "text": [
      "🎩 Alfred's Response:\n",
      "Based on the provided information, it appears that Alfred is likely Dr. Nikola Tesla, considering he is described as an old friend from university days who is passionate about pigeons and has recently patented a new wireless energy transmission system. So, the gentleman talking to the ambassador is Dr. Nikola Tesla.\n"
     ]
    }
   ],
   "source": [
    "# Example run\n",
    "messages = [HumanMessage(content=\"Alfred, who is that gentleman talking to the ambassador?\")]\n",
    "response = alfred.invoke({\"messages\": messages})\n",
    "\n",
    "print(\"🎩 Alfred's Response:\")\n",
    "print(response['messages'][-1].content)"
   ]
  },
  {
   "cell_type": "markdown",
   "id": "8354d3ab-22a5-40f2-a475-5b7a1aa3355d",
   "metadata": {},
   "source": [
    "## 🔄 Agent Workflow Visualization\n",
    "\n",
    "The diagram below illustrates the control flow of our LangGraph-powered Retrieval-Augmented Generation (RAG) agent.\n",
    "\n",
    "This setup enables your assistant (e.g., \"Alfred\") to respond with accurate information based on both reasoning and retrieval."
   ]
  },
  {
   "cell_type": "code",
   "execution_count": 22,
   "id": "bfe0b178-438d-4eef-90ce-9f9d56751927",
   "metadata": {},
   "outputs": [
    {
     "data": {
      "image/png": "[encoded data removed]",
      "text/plain": [
       "<IPython.core.display.Image object>"
      ]
     },
     "metadata": {},
     "output_type": "display_data"
    }
   ],
   "source": [
    "from IPython.display import Image, display\n",
    "compiled_graph = builder.compile()\n",
    "display(Image(compiled_graph.get_graph().draw_mermaid_png()))"
   ]
  },
  {
   "cell_type": "markdown",
   "id": "3f1382a4-a7a3-4519-a46c-f4b1895f8056",
   "metadata": {},
   "source": [
    "## Conclusion\n",
    "\n",
    "In this notebook, we built a fully local, GPU-accelerated RAG assistant powered by:\n",
    "\n",
    "- **`sentence-transformers`** for dense semantic search\n",
    "- **LangChain Tool abstraction** for connecting external logic\n",
    "\n",
    "This agent can:\n",
    "- Understand complex natural language questions\n",
    "- Decide whether to use tools\n",
    "- Retrieve relevant information\n",
    "- Provide rich, natural responses\n",
    "\n",
    "### Next Steps\n",
    "\n",
    "- Integrate more tools (e.g., calendar, email, documents)\n",
    "- Swap the LLM model (`llama3`, `mistral`, `qwen`) for different behaviors\n",
    "- Deploy with FastAPI, Streamlit, or Gradio\n",
    "- Persist your vector index using `faiss` for large-scale RAG\n",
    "\n",
    "Alfred is now ready to serve."
   ]
  },
  {
   "cell_type": "code",
   "execution_count": null,
   "id": "b60bfb38-d33d-4332-b6bd-8a0e2fced500",
   "metadata": {},
   "outputs": [],
   "source": []
  }
 ],
 "metadata": {
  "kernelspec": {
   "display_name": "Python 3 (ipykernel)",
   "language": "python",
   "name": "python3"
  },
  "language_info": {
   "codemirror_mode": {
    "name": "ipython",
    "version": 3
   },
   "file_extension": ".py",
   "mimetype": "text/x-python",
   "name": "python",
   "nbconvert_exporter": "python",
   "pygments_lexer": "ipython3",
   "version": "3.10.16"
  }
 },
 "nbformat": 4,
 "nbformat_minor": 5
}
